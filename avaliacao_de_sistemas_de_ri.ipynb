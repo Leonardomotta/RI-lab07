{
 "cells": [
  {
   "cell_type": "code",
   "execution_count": 287,
   "metadata": {
    "colab": {
     "base_uri": "https://localhost:8080/",
     "height": 51
    },
    "colab_type": "code",
    "id": "eVLJ-zUhxSqr",
    "outputId": "bc271ad8-a8b1-4aca-acb0-75e6a645f33c"
   },
   "outputs": [
    {
     "name": "stderr",
     "output_type": "stream",
     "text": [
      "[nltk_data] Downloading package stopwords to\n",
      "[nltk_data]     C:\\Users\\Leonardo\\AppData\\Roaming\\nltk_data...\n",
      "[nltk_data]   Package stopwords is already up-to-date!\n"
     ]
    }
   ],
   "source": [
    "#Imports\n",
    "\n",
    "import re\n",
    "import collections\n",
    "import bisect\n",
    "import pandas as pd\n",
    "import numpy as np\n",
    "import nltk\n",
    "from nltk.tokenize import RegexpTokenizer\n",
    "nltk.download('stopwords')\n",
    "dados = pd.read_csv('https://raw.githubusercontent.com/Leonardomotta/lab06-ri/master/results.csv')\n",
    "dados_json = pd.read_json('https://raw.githubusercontent.com/Leonardomotta/lab06-ri/master/results_final.json')\n"
   ]
  },
  {
   "cell_type": "code",
   "execution_count": 288,
   "metadata": {
    "colab": {},
    "colab_type": "code",
    "id": "ZCiNa0fv0FPD"
   },
   "outputs": [],
   "source": [
    "resposta = {dados_json['query'][j]:dados_json['docs'][j] for j in range(10)}\n",
    "\n",
    "tknz = RegexpTokenizer(r'([A-Za-zÁáÉéÍíÓóÚúÃãÕõÇçÂâÊê]{3,27})')\n",
    "i = {}\n",
    "n = 0\n",
    "stopwords = nltk.corpus.stopwords.words('portuguese')\n",
    "\n",
    "\n",
    "\n",
    "for texto in dados.text:\n",
    "  words = [word for word in tknz.tokenize(texto.lower())\n",
    "           if not bool(re.search(r'\\d', word))\n",
    "           and word not in stopwords and len(word) >= 3]  \n",
    "  n += 1\n",
    "  for j in words:\n",
    "    if j not in i.keys():\n",
    "      i[j] = []\n",
    "    i[j].append(n)\n",
    "    \n",
    "for elementos in i.items():\n",
    "  d = dict(collections.Counter(elementos[1]))\n",
    "  i[elementos[0]] = list(d.items())\n",
    "    \n",
    "M = dados.text.count()\n",
    "\n",
    "    \n",
    "    \n",
    "for w in i:\n",
    "  k = len(i[w])\n",
    "  IDF = round(np.log((M+1)/k),2)\n",
    "  i[w].append(IDF)"
   ]
  },
  {
   "cell_type": "code",
   "execution_count": 298,
   "metadata": {},
   "outputs": [],
   "source": [
    "#1 \n",
    "#Escolha um documento dentre aqueles da base do aluno Bernardi e \n",
    "#crie uma consulta que você acha que tem boas chances de recuperar este documento. \n",
    "#Em seguida, avalie os resultados de tal consulta usando a métrica de avaliação Reciprocal Rank\n",
    "numero_doc = 246\n",
    "document = dados.loc[numero_doc]\n",
    "query = 'aviões russos Venezuela militares     '\n",
    "\n",
    "\n"
   ]
  },
  {
   "cell_type": "code",
   "execution_count": 290,
   "metadata": {
    "colab": {
     "base_uri": "https://localhost:8080/",
     "height": 193
    },
    "colab_type": "code",
    "id": "uvp_il8XzhPT",
    "outputId": "e35372a6-1ec9-4415-f13f-13abc530d690"
   },
   "outputs": [
    {
     "data": {
      "text/html": [
       "<div>\n",
       "<style scoped>\n",
       "    .dataframe tbody tr th:only-of-type {\n",
       "        vertical-align: middle;\n",
       "    }\n",
       "\n",
       "    .dataframe tbody tr th {\n",
       "        vertical-align: top;\n",
       "    }\n",
       "\n",
       "    .dataframe thead th {\n",
       "        text-align: right;\n",
       "    }\n",
       "</style>\n",
       "<table border=\"1\" class=\"dataframe\">\n",
       "  <thead>\n",
       "    <tr style=\"text-align: right;\">\n",
       "      <th></th>\n",
       "      <th>Binary</th>\n",
       "      <th>BM25</th>\n",
       "      <th>TF</th>\n",
       "      <th>TF-IDF</th>\n",
       "    </tr>\n",
       "  </thead>\n",
       "  <tbody>\n",
       "    <tr>\n",
       "      <th>1</th>\n",
       "      <td>(3, 246)</td>\n",
       "      <td>(10.28, 246)</td>\n",
       "      <td>(10, 207)</td>\n",
       "      <td>(28.98, 142)</td>\n",
       "    </tr>\n",
       "    <tr>\n",
       "      <th>2</th>\n",
       "      <td>(2, 125)</td>\n",
       "      <td>(9.78, 142)</td>\n",
       "      <td>(9, 246)</td>\n",
       "      <td>(26.24, 246)</td>\n",
       "    </tr>\n",
       "    <tr>\n",
       "      <th>3</th>\n",
       "      <td>(1, 245)</td>\n",
       "      <td>(9.1, 125)</td>\n",
       "      <td>(8, 64)</td>\n",
       "      <td>(24.46, 125)</td>\n",
       "    </tr>\n",
       "    <tr>\n",
       "      <th>4</th>\n",
       "      <td>(1, 237)</td>\n",
       "      <td>(5.73, 207)</td>\n",
       "      <td>(7, 223)</td>\n",
       "      <td>(18.8, 207)</td>\n",
       "    </tr>\n",
       "    <tr>\n",
       "      <th>5</th>\n",
       "      <td>(1, 232)</td>\n",
       "      <td>(4.91, 64)</td>\n",
       "      <td>(7, 142)</td>\n",
       "      <td>(15.04, 64)</td>\n",
       "    </tr>\n",
       "    <tr>\n",
       "      <th>6</th>\n",
       "      <td>(1, 229)</td>\n",
       "      <td>(4.45, 223)</td>\n",
       "      <td>(7, 125)</td>\n",
       "      <td>(13.16, 223)</td>\n",
       "    </tr>\n",
       "    <tr>\n",
       "      <th>7</th>\n",
       "      <td>(1, 228)</td>\n",
       "      <td>(3.44, 103)</td>\n",
       "      <td>(5, 103)</td>\n",
       "      <td>(9.4, 103)</td>\n",
       "    </tr>\n",
       "    <tr>\n",
       "      <th>8</th>\n",
       "      <td>(1, 223)</td>\n",
       "      <td>(2.86, 168)</td>\n",
       "      <td>(4, 168)</td>\n",
       "      <td>(7.52, 168)</td>\n",
       "    </tr>\n",
       "    <tr>\n",
       "      <th>9</th>\n",
       "      <td>(1, 222)</td>\n",
       "      <td>(2.86, 165)</td>\n",
       "      <td>(4, 165)</td>\n",
       "      <td>(7.52, 165)</td>\n",
       "    </tr>\n",
       "    <tr>\n",
       "      <th>10</th>\n",
       "      <td>(1, 215)</td>\n",
       "      <td>(2.86, 114)</td>\n",
       "      <td>(4, 114)</td>\n",
       "      <td>(7.52, 114)</td>\n",
       "    </tr>\n",
       "  </tbody>\n",
       "</table>\n",
       "</div>"
      ],
      "text/plain": [
       "      Binary          BM25         TF        TF-IDF\n",
       "1   (3, 246)  (10.28, 246)  (10, 207)  (28.98, 142)\n",
       "2   (2, 125)   (9.78, 142)   (9, 246)  (26.24, 246)\n",
       "3   (1, 245)    (9.1, 125)    (8, 64)  (24.46, 125)\n",
       "4   (1, 237)   (5.73, 207)   (7, 223)   (18.8, 207)\n",
       "5   (1, 232)    (4.91, 64)   (7, 142)   (15.04, 64)\n",
       "6   (1, 229)   (4.45, 223)   (7, 125)  (13.16, 223)\n",
       "7   (1, 228)   (3.44, 103)   (5, 103)    (9.4, 103)\n",
       "8   (1, 223)   (2.86, 168)   (4, 168)   (7.52, 168)\n",
       "9   (1, 222)   (2.86, 165)   (4, 165)   (7.52, 165)\n",
       "10  (1, 215)   (2.86, 114)   (4, 114)   (7.52, 114)"
      ]
     },
     "execution_count": 290,
     "metadata": {},
     "output_type": "execute_result"
    }
   ],
   "source": [
    "\n",
    "\n",
    "def tfidf_vsm(query, document):\n",
    "  s = 0\n",
    "  doc_tokens = document.split()\n",
    "  query_tokens = query.split()\n",
    "  \n",
    "  for word in query_tokens:\n",
    "    cwd = doc_tokens.count(word)\n",
    "    if word in i:\n",
    "      s += cwd * i[word][-1]\n",
    "  \n",
    "  return round(s,2)\n",
    "\n",
    "def binary_vsm(query, document):\n",
    "  s = 0\n",
    "  query_tokens = query.split()\n",
    "  doc_tokens = document.split()\n",
    "  \n",
    "  for token in query_tokens:\n",
    "    s += (token in doc_tokens)\n",
    "    \n",
    "  return s\n",
    "\n",
    "def tf_vsm(query, document):\n",
    "  s = 0\n",
    "  doc_tokens = document.split()\n",
    "  query_tokens = query.split()\n",
    "  \n",
    "  for word in query_tokens:\n",
    "    s += doc_tokens.count(word)\n",
    "  \n",
    "  return s\n",
    "\n",
    "\n",
    "def bm25_vsm(query, document, k):\n",
    "  s = 0\n",
    "  doc_tokens = document.split()\n",
    "  query_tokens = query.split()\n",
    "  \n",
    "  words = [word for word in query_tokens if word in doc_tokens]\n",
    "    \n",
    "  for word in words:\n",
    "    cwd = doc_tokens.count(word)\n",
    "    dfw = 0\n",
    "    if word in i:\n",
    "      dfw = len(i[word][:-1])\n",
    "    s += (((k+1) * cwd) / (cwd + k)) * np.log10(((M+1) / dfw)) if dfw != 0 else 0\n",
    "  \n",
    "  return round(s,2)\n",
    "\n",
    "def topN_models(q,n):\n",
    "  db = []\n",
    "  dtf = []\n",
    "  dtfidf = []\n",
    "  dbm25 = []\n",
    "    \n",
    "  for i in range(len(dados)):\n",
    "   \n",
    "    bisect.insort(dtfidf, (tfidf_vsm(query,dados.text[i].lower()), i))\n",
    "    bisect.insort(db, (binary_vsm(query, dados.text[i].lower()), i))\n",
    "    bisect.insort(dtf, (tf_vsm(query,dados.text[i].lower()), i))\n",
    "    bisect.insort(dbm25, (bm25_vsm(query,dados.text[i].lower(),20), i))\n",
    "  \n",
    "  db.reverse()\n",
    "  dtf.reverse()\n",
    "  dtfidf.reverse()\n",
    "  dbm25.reverse()\n",
    "  \n",
    "  return db[:n], dtf[:n], dtfidf[:n], dbm25[:n]\n",
    "\n",
    "binary, tf, tfidf, bm25 = topN_models(query,10)\n",
    "\n",
    "\n",
    "idc= [d for score,d in top_binary]\n",
    "\n",
    "\n",
    "\n",
    "dataFrame = pd.DataFrame()\n",
    "\n",
    "dataFrame['Binary'] = binary\n",
    "dataFrame['BM25'] = bm25\n",
    "dataFrame['TF'] = tf\n",
    "dataFrame['TF-IDF'] =tfidf\n",
    "dataFrame.index+=1\n",
    "dataFrame\n",
    "\n",
    "\n"
   ]
  },
  {
   "cell_type": "code",
   "execution_count": 291,
   "metadata": {},
   "outputs": [
    {
     "data": {
      "text/html": [
       "<div>\n",
       "<style scoped>\n",
       "    .dataframe tbody tr th:only-of-type {\n",
       "        vertical-align: middle;\n",
       "    }\n",
       "\n",
       "    .dataframe tbody tr th {\n",
       "        vertical-align: top;\n",
       "    }\n",
       "\n",
       "    .dataframe thead th {\n",
       "        text-align: right;\n",
       "    }\n",
       "</style>\n",
       "<table border=\"1\" class=\"dataframe\">\n",
       "  <thead>\n",
       "    <tr style=\"text-align: right;\">\n",
       "      <th></th>\n",
       "      <th>Binary</th>\n",
       "      <th>BM25</th>\n",
       "      <th>TF</th>\n",
       "      <th>TF-IDF</th>\n",
       "    </tr>\n",
       "  </thead>\n",
       "  <tbody>\n",
       "    <tr>\n",
       "      <th>1</th>\n",
       "      <td>1.0</td>\n",
       "      <td>1.0</td>\n",
       "      <td>0.5</td>\n",
       "      <td>0.5</td>\n",
       "    </tr>\n",
       "  </tbody>\n",
       "</table>\n",
       "</div>"
      ],
      "text/plain": [
       "   Binary  BM25   TF  TF-IDF\n",
       "1     1.0   1.0  0.5     0.5"
      ]
     },
     "execution_count": 291,
     "metadata": {},
     "output_type": "execute_result"
    }
   ],
   "source": [
    "def rankR(t, id_doc):\n",
    "  x = 1.0\n",
    "  for r,doc in t:\n",
    "    if doc == id_doc:\n",
    "      return  [round(1 / x, 2)]\n",
    "    else:\n",
    "        x += 1\n",
    "\n",
    "rdf = pd.DataFrame()\n",
    "rdf['Binary'] = rankR(dataFrame['Binary'], numero_doc)\n",
    "\n",
    "rdf['BM25'] = rankR(dataFrame['BM25'], numero_doc)\n",
    "\n",
    "rdf['TF'] = rankR(dataFrame['TF'], numero_doc)\n",
    "\n",
    "rdf['TF-IDF'] = rankR(dataFrame['TF-IDF'], numero_doc)\n",
    "\n",
    "rdf.index+=1\n",
    "rdf"
   ]
  },
  {
   "cell_type": "code",
   "execution_count": 292,
   "metadata": {},
   "outputs": [],
   "source": [
    "#2\n",
    "#A partir do gabarito fornecido em OBS1, calcule \n",
    "#o MAP para cada algoritmo abaixo e aponte qual obteve o melhor resultado. \n",
    "#Para os cálculos do MAP, considere que um documento é relevante \n",
    "#para uma dada consulta se este documento estiver entre os documentos\n",
    "#do gabarito para essa consulta, senão ele deve ser considerado irrelevante. (10 pts)\n",
    "\n"
   ]
  },
  {
   "cell_type": "code",
   "execution_count": 293,
   "metadata": {
    "colab": {},
    "colab_type": "code",
    "id": "6Otvp79zy3If"
   },
   "outputs": [],
   "source": [
    "\n",
    "def get_indexes(docs):\n",
    "  return [d for score,d in docs]\n",
    "\n",
    "def getIntersection(a,b):\n",
    "    return [elem for elem in a if elem in b]\n",
    "def cap(qr):\n",
    "  doc_rel = []\n",
    "\n",
    "  for doc_info in resposta[qr]:\n",
    "    row = dados.loc[dados.url == doc_info['URL']]\n",
    "    doc_rel.append(row.index[0])\n",
    "\n",
    "  binary, tf, tfidf, bm25 = topN_models(qr, 10)\n",
    "  binary = get_indexes(binary)\n",
    "  tf = get_indexes(tf)\n",
    "  tfidf = get_indexes(tfidf)\n",
    "  bm25 = get_indexes(bm25)\n",
    "\n",
    "  \n",
    "  ap_binary = len(getIntersection(binary, doc_rel)) / len(binary)\n",
    "  \n",
    "  ap_tf = len(getIntersection(tf, doc_rel)) / len(tf)\n",
    "\n",
    "  ap_tfidf = len(getIntersection(tfidf, doc_rel)) / len(tfidf)\n",
    "\n",
    "  ap_bm25 = len(getIntersection(bm25, doc_rel)) / len(bm25)\n",
    "  \n",
    "  return ap_binary, ap_tf, ap_tfidf, ap_bm25\n",
    "  \n",
    "def cmap(qr):\n",
    "  x = 0\n",
    "  z = 0\n",
    "  w = 0\n",
    "  y = 0\n",
    "  \n",
    "  for q in qr:\n",
    "    ap_binary, ap_tf, ap_tfidf, ap_bm25 = cap(q)\n",
    "    \n",
    "    x +=ap_binary\n",
    "    z +=ap_tf\n",
    "    w +=ap_tfidf\n",
    "    y +=ap_bm25\n",
    "  mb = round(x /   len(qr),2)\n",
    "  mtfi = round(w / len(qr),2)\n",
    "  mbm = round(y / len(qr),2)\n",
    "  mtf = round(z / len(qr),2)\n",
    "  \n",
    "  return mb, mtf, mtfi, mbm\n",
    "\n",
    "\n",
    "mapResult_binary, mapResult_tf, mapResult_tfidf, mapResult_bm25 = cmap(resposta.keys())\n",
    "\n",
    "\n"
   ]
  },
  {
   "cell_type": "code",
   "execution_count": 294,
   "metadata": {
    "colab": {},
    "colab_type": "code",
    "id": "FMVAICHwxjye"
   },
   "outputs": [
    {
     "data": {
      "text/plain": [
       "0.02"
      ]
     },
     "execution_count": 294,
     "metadata": {},
     "output_type": "execute_result"
    }
   ],
   "source": [
    "mapResult_binary"
   ]
  },
  {
   "cell_type": "code",
   "execution_count": 295,
   "metadata": {
    "colab": {
     "base_uri": "https://localhost:8080/",
     "height": 142
    },
    "colab_type": "code",
    "id": "N7-z8vMvydAX",
    "outputId": "20a348dd-299d-4643-eb04-15e9cbe19701"
   },
   "outputs": [
    {
     "data": {
      "text/plain": [
       "0.03"
      ]
     },
     "execution_count": 295,
     "metadata": {},
     "output_type": "execute_result"
    }
   ],
   "source": [
    "mapResult_tf"
   ]
  },
  {
   "cell_type": "code",
   "execution_count": 296,
   "metadata": {
    "colab": {
     "base_uri": "https://localhost:8080/",
     "height": 142
    },
    "colab_type": "code",
    "id": "ghrjh9Xz2LO3",
    "outputId": "522dd064-4255-4eaf-a5f3-adde5eed4779"
   },
   "outputs": [
    {
     "data": {
      "text/plain": [
       "0.03"
      ]
     },
     "execution_count": 296,
     "metadata": {},
     "output_type": "execute_result"
    }
   ],
   "source": [
    "mapResult_tfidf"
   ]
  },
  {
   "cell_type": "code",
   "execution_count": 297,
   "metadata": {
    "colab": {
     "base_uri": "https://localhost:8080/",
     "height": 142
    },
    "colab_type": "code",
    "id": "DoPKlPck2Lw0",
    "outputId": "54f86fa2-87c6-4ff2-b0cd-63cdb6095f40"
   },
   "outputs": [
    {
     "data": {
      "text/plain": [
       "0.03"
      ]
     },
     "execution_count": 297,
     "metadata": {},
     "output_type": "execute_result"
    }
   ],
   "source": [
    "mapResult_bm25"
   ]
  }
 ],
 "metadata": {
  "colab": {
   "collapsed_sections": [],
   "include_colab_link": true,
   "name": "modelo_vetorial",
   "provenance": [],
   "version": "0.3.2"
  },
  "kernelspec": {
   "display_name": "Python 3",
   "language": "python",
   "name": "python3"
  },
  "language_info": {
   "codemirror_mode": {
    "name": "ipython",
    "version": 3
   },
   "file_extension": ".py",
   "mimetype": "text/x-python",
   "name": "python",
   "nbconvert_exporter": "python",
   "pygments_lexer": "ipython3",
   "version": "3.7.1"
  }
 },
 "nbformat": 4,
 "nbformat_minor": 1
}
